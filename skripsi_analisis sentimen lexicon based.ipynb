{
 "cells": [
  {
   "cell_type": "code",
   "execution_count": 81,
   "metadata": {},
   "outputs": [],
   "source": [
    "import pandas as pd\n",
    "import numpy as np\n",
    "from datetime import datetime,timedelta\n",
    "import pytz \n",
    "import re\n",
    "import nltk\n",
    "from nltk.corpus import stopwords\n",
    "from nltk.tokenize import word_tokenize\n",
    "import ast\n",
    "import string\n",
    "from wordcloud import WordCloud\n",
    "from Sastrawi.Stemmer.StemmerFactory import StemmerFactory\n",
    "import itertools\n",
    "import matplotlib.pyplot as plt\n",
    "import seaborn as sns\n",
    "from googletrans import Translator\n",
    "\n",
    "\n"
   ]
  },
  {
   "cell_type": "code",
   "execution_count": 82,
   "metadata": {},
   "outputs": [
    {
     "data": {
      "text/html": [
       "<div>\n",
       "<style scoped>\n",
       "    .dataframe tbody tr th:only-of-type {\n",
       "        vertical-align: middle;\n",
       "    }\n",
       "\n",
       "    .dataframe tbody tr th {\n",
       "        vertical-align: top;\n",
       "    }\n",
       "\n",
       "    .dataframe thead th {\n",
       "        text-align: right;\n",
       "    }\n",
       "</style>\n",
       "<table border=\"1\" class=\"dataframe\">\n",
       "  <thead>\n",
       "    <tr style=\"text-align: right;\">\n",
       "      <th></th>\n",
       "      <th>Unnamed: 0</th>\n",
       "      <th>tweet_preprocessing</th>\n",
       "      <th>sentimen</th>\n",
       "    </tr>\n",
       "  </thead>\n",
       "  <tbody>\n",
       "    <tr>\n",
       "      <th>0</th>\n",
       "      <td>0</td>\n",
       "      <td>kak maaf kendalanya ya kak bella bantu kendala kakak inbox ya kak silakan kakak</td>\n",
       "      <td>negatif</td>\n",
       "    </tr>\n",
       "    <tr>\n",
       "      <th>1</th>\n",
       "      <td>1</td>\n",
       "      <td>follow yuk byk hadiah guys</td>\n",
       "      <td>positif</td>\n",
       "    </tr>\n",
       "    <tr>\n",
       "      <th>2</th>\n",
       "      <td>2</td>\n",
       "      <td>kak maaf kendalanya ya kak bella bantu kendala kakak inbox ya kak silakan kakak</td>\n",
       "      <td>negatif</td>\n",
       "    </tr>\n",
       "    <tr>\n",
       "      <th>3</th>\n",
       "      <td>3</td>\n",
       "      <td>mengajakmu bergabung bukalapak memberikanmu credits rp cek</td>\n",
       "      <td>positif</td>\n",
       "    </tr>\n",
       "    <tr>\n",
       "      <th>4</th>\n",
       "      <td>4</td>\n",
       "      <td>tolong nomor dana hangus memutus akun dana</td>\n",
       "      <td>negatif</td>\n",
       "    </tr>\n",
       "  </tbody>\n",
       "</table>\n",
       "</div>"
      ],
      "text/plain": [
       "   Unnamed: 0  \\\n",
       "0           0   \n",
       "1           1   \n",
       "2           2   \n",
       "3           3   \n",
       "4           4   \n",
       "\n",
       "                                                               tweet_preprocessing  \\\n",
       "0  kak maaf kendalanya ya kak bella bantu kendala kakak inbox ya kak silakan kakak   \n",
       "1                                                       follow yuk byk hadiah guys   \n",
       "2  kak maaf kendalanya ya kak bella bantu kendala kakak inbox ya kak silakan kakak   \n",
       "3                      mengajakmu bergabung bukalapak memberikanmu credits rp cek    \n",
       "4                                       tolong nomor dana hangus memutus akun dana   \n",
       "\n",
       "  sentimen  \n",
       "0  negatif  \n",
       "1  positif  \n",
       "2  negatif  \n",
       "3  positif  \n",
       "4  negatif  "
      ]
     },
     "execution_count": 82,
     "metadata": {},
     "output_type": "execute_result"
    }
   ],
   "source": [
    "import pandas as pd\n",
    "pd.options.display.max_colwidth = 100\n",
    "import nltk\n",
    "from nltk.sentiment.util import mark_negation\n",
    "from nltk.corpus import stopwords\n",
    "from nltk.corpus import wordnet\n",
    "from nltk.stem import WordNetLemmatizer\n",
    "from nltk.corpus import sentiwordnet as swn\n",
    "import numpy as np\n",
    "import matplotlib.pyplot as plt\n",
    "from sklearn.metrics import confusion_matrix, classification_report, accuracy_score\n",
    "import math\n",
    "\n",
    "import pandas as pd  \n",
    "import numpy as np\n",
    "import matplotlib.pyplot as plt\n",
    "df = pd.read_csv('preprocessing_skripsi.csv')\n",
    "# above line will be different depending on where you saved your data, and your file name\n",
    "df.head()\n"
   ]
  },
  {
   "cell_type": "code",
   "execution_count": null,
   "metadata": {},
   "outputs": [],
   "source": []
  },
  {
   "cell_type": "code",
   "execution_count": 83,
   "metadata": {},
   "outputs": [
    {
     "data": {
      "text/plain": [
       "Series([], Name: tweet_preprocessing, dtype: object)"
      ]
     },
     "execution_count": 83,
     "metadata": {},
     "output_type": "execute_result"
    }
   ],
   "source": [
    "pd.set_option('display.max_colwidth', None)\n",
    "df[df['tweet_preprocessing'].isnull()==True]['tweet_preprocessing']"
   ]
  },
  {
   "cell_type": "code",
   "execution_count": 84,
   "metadata": {},
   "outputs": [
    {
     "data": {
      "text/plain": [
       "870"
      ]
     },
     "execution_count": 84,
     "metadata": {},
     "output_type": "execute_result"
    }
   ],
   "source": [
    "len(df)"
   ]
  },
  {
   "cell_type": "code",
   "execution_count": 85,
   "metadata": {},
   "outputs": [
    {
     "data": {
      "text/plain": [
       "Unnamed: 0             0\n",
       "tweet_preprocessing    0\n",
       "sentimen               0\n",
       "dtype: int64"
      ]
     },
     "execution_count": 85,
     "metadata": {},
     "output_type": "execute_result"
    }
   ],
   "source": [
    "df.isnull().sum()"
   ]
  },
  {
   "cell_type": "code",
   "execution_count": 86,
   "metadata": {},
   "outputs": [
    {
     "data": {
      "text/plain": [
       "(870, 3)"
      ]
     },
     "execution_count": 86,
     "metadata": {},
     "output_type": "execute_result"
    }
   ],
   "source": [
    "df.shape"
   ]
  },
  {
   "cell_type": "code",
   "execution_count": 87,
   "metadata": {},
   "outputs": [
    {
     "data": {
      "text/html": [
       "<div>\n",
       "<style scoped>\n",
       "    .dataframe tbody tr th:only-of-type {\n",
       "        vertical-align: middle;\n",
       "    }\n",
       "\n",
       "    .dataframe tbody tr th {\n",
       "        vertical-align: top;\n",
       "    }\n",
       "\n",
       "    .dataframe thead th {\n",
       "        text-align: right;\n",
       "    }\n",
       "</style>\n",
       "<table border=\"1\" class=\"dataframe\">\n",
       "  <thead>\n",
       "    <tr style=\"text-align: right;\">\n",
       "      <th></th>\n",
       "      <th>Unnamed: 0</th>\n",
       "      <th>tweet_preprocessing</th>\n",
       "      <th>sentimen</th>\n",
       "    </tr>\n",
       "  </thead>\n",
       "  <tbody>\n",
       "    <tr>\n",
       "      <th>865</th>\n",
       "      <td>865</td>\n",
       "      <td>kak mohon maaf kakak transaksi hubungâ</td>\n",
       "      <td>negatif</td>\n",
       "    </tr>\n",
       "    <tr>\n",
       "      <th>866</th>\n",
       "      <td>866</td>\n",
       "      <td>yg sms bukalapak</td>\n",
       "      <td>negatif</td>\n",
       "    </tr>\n",
       "    <tr>\n",
       "      <th>867</th>\n",
       "      <td>867</td>\n",
       "      <td>terimakasih infonyaðÿ ðÿ</td>\n",
       "      <td>positif</td>\n",
       "    </tr>\n",
       "    <tr>\n",
       "      <th>868</th>\n",
       "      <td>868</td>\n",
       "      <td>ketipu untung keburu curiga ikutin petunjuk pelapak teruâ</td>\n",
       "      <td>positif</td>\n",
       "    </tr>\n",
       "    <tr>\n",
       "      <th>869</th>\n",
       "      <td>869</td>\n",
       "      <td>rt twitter please do your magic gue tau akun gue tolong retweet tau yg ketipu â</td>\n",
       "      <td>negatif</td>\n",
       "    </tr>\n",
       "  </tbody>\n",
       "</table>\n",
       "</div>"
      ],
      "text/plain": [
       "     Unnamed: 0  \\\n",
       "865         865   \n",
       "866         866   \n",
       "867         867   \n",
       "868         868   \n",
       "869         869   \n",
       "\n",
       "                                                                  tweet_preprocessing  \\\n",
       "865                                           kak mohon maaf kakak transaksi hubungâ    \n",
       "866                                                                 yg sms bukalapak    \n",
       "867                                                         terimakasih infonyaðÿ ðÿ    \n",
       "868                        ketipu untung keburu curiga ikutin petunjuk pelapak teruâ    \n",
       "869  rt twitter please do your magic gue tau akun gue tolong retweet tau yg ketipu â    \n",
       "\n",
       "    sentimen  \n",
       "865  negatif  \n",
       "866  negatif  \n",
       "867  positif  \n",
       "868  positif  \n",
       "869  negatif  "
      ]
     },
     "execution_count": 87,
     "metadata": {},
     "output_type": "execute_result"
    }
   ],
   "source": [
    "df.tail()"
   ]
  },
  {
   "cell_type": "code",
   "execution_count": 88,
   "metadata": {},
   "outputs": [
    {
     "name": "stdout",
     "output_type": "stream",
     "text": [
      "<class 'pandas.core.frame.DataFrame'>\n",
      "RangeIndex: 870 entries, 0 to 869\n",
      "Data columns (total 3 columns):\n",
      " #   Column               Non-Null Count  Dtype \n",
      "---  ------               --------------  ----- \n",
      " 0   Unnamed: 0           870 non-null    int64 \n",
      " 1   tweet_preprocessing  870 non-null    object\n",
      " 2   sentimen             870 non-null    object\n",
      "dtypes: int64(1), object(2)\n",
      "memory usage: 20.5+ KB\n"
     ]
    }
   ],
   "source": [
    "df.info()"
   ]
  },
  {
   "cell_type": "code",
   "execution_count": 89,
   "metadata": {},
   "outputs": [
    {
     "data": {
      "text/plain": [
       "Unnamed: 0             0\n",
       "tweet_preprocessing    0\n",
       "sentimen               0\n",
       "dtype: int64"
      ]
     },
     "execution_count": 89,
     "metadata": {},
     "output_type": "execute_result"
    }
   ],
   "source": [
    "df.isnull().sum()"
   ]
  },
  {
   "cell_type": "code",
   "execution_count": 90,
   "metadata": {},
   "outputs": [],
   "source": [
    "df.dropna(inplace=True)"
   ]
  },
  {
   "cell_type": "code",
   "execution_count": 91,
   "metadata": {},
   "outputs": [
    {
     "name": "stdout",
     "output_type": "stream",
     "text": [
      "<class 'pandas.core.frame.DataFrame'>\n",
      "Int64Index: 870 entries, 0 to 869\n",
      "Data columns (total 3 columns):\n",
      " #   Column               Non-Null Count  Dtype \n",
      "---  ------               --------------  ----- \n",
      " 0   Unnamed: 0           870 non-null    int64 \n",
      " 1   tweet_preprocessing  870 non-null    object\n",
      " 2   sentimen             870 non-null    object\n",
      "dtypes: int64(1), object(2)\n",
      "memory usage: 27.2+ KB\n"
     ]
    }
   ],
   "source": [
    "df.info()"
   ]
  },
  {
   "cell_type": "code",
   "execution_count": 92,
   "metadata": {},
   "outputs": [
    {
     "data": {
      "text/plain": [
       "(870, 3)"
      ]
     },
     "execution_count": 92,
     "metadata": {},
     "output_type": "execute_result"
    }
   ],
   "source": [
    "df.shape"
   ]
  },
  {
   "cell_type": "code",
   "execution_count": 93,
   "metadata": {},
   "outputs": [
    {
     "data": {
      "text/plain": [
       "Unnamed: 0             0\n",
       "tweet_preprocessing    0\n",
       "sentimen               0\n",
       "dtype: int64"
      ]
     },
     "execution_count": 93,
     "metadata": {},
     "output_type": "execute_result"
    }
   ],
   "source": [
    "df.isnull().sum()"
   ]
  },
  {
   "cell_type": "code",
   "execution_count": 94,
   "metadata": {},
   "outputs": [],
   "source": [
    "def trans(x,src):\n",
    "    translator = Translator()\n",
    "    try:\n",
    "        sentence = translator.translate(x, src=src,dest='id').text\n",
    "    except:\n",
    "        sentence = x\n",
    "    return sentence"
   ]
  },
  {
   "cell_type": "code",
   "execution_count": 95,
   "metadata": {},
   "outputs": [],
   "source": [
    "tweet = df['tweet_preprocessing'].copy()"
   ]
  },
  {
   "cell_type": "code",
   "execution_count": 96,
   "metadata": {},
   "outputs": [
    {
     "data": {
      "text/plain": [
       "855                    investasi reksadana mudah risiko kerugiannya suka investasi reksadana awalâ \n",
       "856                                       kak kendala bukalapak tinggal colek mimin bella ya ðÿ jbt\n",
       "857                rt twitter please do your magic gue tau akun gue tolong retweet tau yg ketipu â \n",
       "858                                                   kak ya kendala bukalapak hubungi bella ðÿ jbt\n",
       "859              tampilan e com yg bikin pusing bukalapak zilingoooo ampun pusing bener cari barang\n",
       "860                                                       notif bukalapak ngeri sehari puluhan kali\n",
       "861                                   mbok kiro gojek toped bukalapak iku duduk garapane milenial a\n",
       "862                                                    transaksi okt clear no resinya resi sms tsb \n",
       "863    permisi share ready stock tokyobike cari city bike kids bike more coming soon terima kasihâ \n",
       "864                      hai kak maaf nyaman ya kak terkait pemberitahuan aplikasi bukalapak kamuâ \n",
       "865                                                         kak mohon maaf kakak transaksi hubungâ \n",
       "866                                                                               yg sms bukalapak \n",
       "867                                                                       terimakasih infonyaðÿ ðÿ \n",
       "868                                      ketipu untung keburu curiga ikutin petunjuk pelapak teruâ \n",
       "869                rt twitter please do your magic gue tau akun gue tolong retweet tau yg ketipu â \n",
       "Name: tweet_preprocessing, dtype: object"
      ]
     },
     "execution_count": 96,
     "metadata": {},
     "output_type": "execute_result"
    }
   ],
   "source": [
    "pd.set_option('display.max_colwidth', 100)\n",
    "tweet.tail(15)"
   ]
  },
  {
   "cell_type": "code",
   "execution_count": 145,
   "metadata": {},
   "outputs": [],
   "source": [
    "def repair_exaggeration(x):\n",
    "    word_tokens = word_tokenize(x)\n",
    "    new_x =''\n",
    "    for i in word_tokens:\n",
    "        if (i =='belanja'):\n",
    "            new = re.sub(r'(\\w)\\1\\1+',r'\\1\\1',i)\n",
    "            new_x = new_x +new+' '\n",
    "        elif(i =='belanj'):\n",
    "            new = 'belanja'\n",
    "            new_x = new_x +new+' '\n",
    "        else:\n",
    "            new = re.sub(r'(\\w)\\1\\1\\1+',r'\\1',i)\n",
    "            new_x = new_x +new+' '\n",
    "    return new_x\n",
    "\n",
    "def del_word(x,key_list):\n",
    "    n = len(key_list)\n",
    "    word_tokens = word_tokenize(x)\n",
    "    new_x =''\n",
    "    for word in word_tokens:\n",
    "        if word not in key_list:\n",
    "            new_x = new_x+word+' '\n",
    "    return new_x\n",
    "\n",
    "def clean_tweets(tweet):\n",
    "   # nltk.download('stopwords')\n",
    "    my_file = open(\"combined_stop_words.txt\", \"r\")\n",
    "    content = my_file.read()\n",
    "    stop_words = content.split(\"\\n\")\n",
    "    file_2  = open(\"update_combined_slang_words.txt\", \"r\")\n",
    "    content2 = file_2.read()\n",
    "    slang_words = ast.literal_eval(content2)\n",
    "    my_file.close()\n",
    "    file_2.close()\n",
    "\n",
    "    tweet = tweet.lower()\n",
    "    #after tweepy preprocessing the colon left remain after removing mentions\n",
    "    #or RT sign in the beginning of the tweet\n",
    "    tweet = re.sub(r':', '', tweet)\n",
    "    tweet = re.sub(r'‚Ä¶', '', tweet)\n",
    "    #replace consecutive non-ASCII characters with a space\n",
    "    tweet = re.sub(r'[^\\x00-\\x7F]+',' ', tweet)\n",
    "\n",
    "    #remove emojis from tweet\n",
    "    #tweet = emoji_pattern.sub(r'', tweet)\n",
    "    \n",
    "    #remove punctuation manually\n",
    "    tweet = re.sub('[^a-zA-Z]', ' ', tweet)\n",
    "    \n",
    "    #remove tags\n",
    "    tweet=re.sub(\"&lt;/?.*?&gt;\",\"&lt;&gt;\",tweet)\n",
    "    \n",
    "    #remove digits and special chars\n",
    "    tweet=re.sub(\"(\\\\d|\\\\W)+\",\" \",tweet)\n",
    "\n",
    "    #remove other symbol from tweet\n",
    "    tweet = re.sub(r'â', '', 'tweet')\n",
    "    tweet = re.sub(r'€', '', 'tweet')\n",
    "    tweet = re.sub(r'¦', '', 'tweet')\n",
    "    tweet = re.sub(r'rt', '', 'tweet')\n",
    "\n",
    "    word_tokens = word_tokenize(tweet)\n",
    "    for w in word_tokens:\n",
    "        if w in slang_words.keys():\n",
    "            word_tokens[word_tokens.index(w)] = slang_words[w]\n",
    "\n",
    "    #filter using NLTK library append it to a string\n",
    "    filtered_tweet = [w for w in word_tokens if not w in stop_words]\n",
    "    filtered_tweet = []\n",
    "\n",
    "    #looping through conditions\n",
    "    for w in word_tokens:\n",
    "        #check tokens against stop words , emoticons and punctuations\n",
    "        if w not in stop_words and w not in string.punctuation:\n",
    "            filtered_tweet.append(w.lower())\n",
    "    return ' '.join(filtered_tweet)\n",
    "\n",
    "def count_words(x):\n",
    "    words = word_tokenize(x)\n",
    "    n=len(words)\n",
    "    return n"
   ]
  },
  {
   "cell_type": "code",
   "execution_count": 146,
   "metadata": {},
   "outputs": [],
   "source": [
    "tweet_exag = tweet.apply(lambda x: repair_exaggeration(x))"
   ]
  },
  {
   "cell_type": "code",
   "execution_count": 147,
   "metadata": {},
   "outputs": [
    {
     "data": {
      "text/plain": [
       "855                    investasi reksadana mudah risiko kerugiannya suka investasi reksadana awalâ \n",
       "856                                      kak kendala bukalapak tinggal colek mimin bella ya ðÿ jbt \n",
       "857                rt twitter please do your magic gue tau akun gue tolong retweet tau yg ketipu â \n",
       "858                                                  kak ya kendala bukalapak hubungi bella ðÿ jbt \n",
       "859                tampilan e com yg bikin pusing bukalapak zilingo ampun pusing bener cari barang \n",
       "860                                                      notif bukalapak ngeri sehari puluhan kali \n",
       "861                                  mbok kiro gojek toped bukalapak iku duduk garapane milenial a \n",
       "862                                                    transaksi okt clear no resinya resi sms tsb \n",
       "863    permisi share ready stock tokyobike cari city bike kids bike more coming soon terima kasihâ \n",
       "864                      hai kak maaf nyaman ya kak terkait pemberitahuan aplikasi bukalapak kamuâ \n",
       "865                                                         kak mohon maaf kakak transaksi hubungâ \n",
       "866                                                                               yg sms bukalapak \n",
       "867                                                                       terimakasih infonyaðÿ ðÿ \n",
       "868                                      ketipu untung keburu curiga ikutin petunjuk pelapak teruâ \n",
       "869                rt twitter please do your magic gue tau akun gue tolong retweet tau yg ketipu â \n",
       "Name: tweet_preprocessing, dtype: object"
      ]
     },
     "execution_count": 147,
     "metadata": {},
     "output_type": "execute_result"
    }
   ],
   "source": [
    "tweet_exag.tail(15)"
   ]
  },
  {
   "cell_type": "code",
   "execution_count": 148,
   "metadata": {},
   "outputs": [],
   "source": [
    "keyword = ['ðÿ','rprb','rt','dâ','pelaâ','retweet','awalâ','ðÿ','â','ðÿ','â','rt']\n",
    "clean_text_extra = tweet.apply(lambda x: del_word(x,keyword))\n"
   ]
  },
  {
   "cell_type": "code",
   "execution_count": 149,
   "metadata": {},
   "outputs": [
    {
     "data": {
      "text/plain": [
       "0                     kak maaf kendalanya ya kak bella bantu kendala kakak inbox ya kak silakan kakak \n",
       "1                                                                          follow yuk byk hadiah guys \n",
       "2                     kak maaf kendalanya ya kak bella bantu kendala kakak inbox ya kak silakan kakak \n",
       "3                                          mengajakmu bergabung bukalapak memberikanmu credits rp cek \n",
       "4                                                          tolong nomor dana hangus memutus akun dana \n",
       "5                                                       belanja pengiriman pakai jasa terimakasih jnt \n",
       "6                                    malam min knp ga login ya padhal udah bener sms kode bener gagal \n",
       "7                                                                              tolong balas dmnya yaa \n",
       "8     hi kak maaf kendalanya ya kak bella bantu inbox ya kak kendalanya silakan kakak cek inbox kakak \n",
       "9               gratisan pake kode ongkirgratis pas belanja bukalapak biar ongkir gratis maks berlaku \n",
       "10                                                           kejadian shopee bukalapak balikin akunku \n",
       "11                   hallo membeli pelatihan prakerja bukalapak menyelesaikan pelatihan skill academy \n",
       "12                                                     free pake link belanja shopee bukalapak lazada \n",
       "13                                                               ngasih emas nih ambil hadiah emasnya \n",
       "14                                                        hi selamat terpilih pemenang kuis cek dm ya \n",
       "Name: tweet_preprocessing, dtype: object"
      ]
     },
     "execution_count": 149,
     "metadata": {},
     "output_type": "execute_result"
    }
   ],
   "source": [
    "clean_text_extra.head(15)"
   ]
  },
  {
   "cell_type": "code",
   "execution_count": 150,
   "metadata": {},
   "outputs": [],
   "source": [
    "df['tweet'] = clean_text_extra"
   ]
  },
  {
   "cell_type": "code",
   "execution_count": 151,
   "metadata": {},
   "outputs": [],
   "source": [
    "df['word_length'] = df['tweet'].apply(lambda x:count_words(x))"
   ]
  },
  {
   "cell_type": "code",
   "execution_count": 152,
   "metadata": {},
   "outputs": [
    {
     "data": {
      "text/plain": [
       "1       5\n",
       "2      15\n",
       "3      35\n",
       "4      40\n",
       "5      80\n",
       "6      68\n",
       "7     108\n",
       "8      78\n",
       "9      69\n",
       "10     70\n",
       "11     89\n",
       "12     67\n",
       "13     81\n",
       "14     38\n",
       "15     17\n",
       "16      9\n",
       "17      1\n",
       "Name: word_length, dtype: int64"
      ]
     },
     "execution_count": 152,
     "metadata": {},
     "output_type": "execute_result"
    }
   ],
   "source": [
    "df['word_length'].value_counts().sort_index()"
   ]
  },
  {
   "cell_type": "code",
   "execution_count": 153,
   "metadata": {},
   "outputs": [],
   "source": [
    "df = df.drop(df[df['word_length']==0].index,axis=0)\n",
    "df = df.reset_index(drop=True)"
   ]
  },
  {
   "cell_type": "code",
   "execution_count": 154,
   "metadata": {},
   "outputs": [],
   "source": [
    "word_dict = {}\n",
    "for i in range(0,len(df['tweet'])):\n",
    "    sentence = df['tweet'][i]\n",
    "    word_token = word_tokenize(sentence)\n",
    "    for j in word_token:\n",
    "        if j not in word_dict:\n",
    "            word_dict[j] = 1\n",
    "        else:\n",
    "            word_dict[j] += 1"
   ]
  },
  {
   "cell_type": "code",
   "execution_count": 155,
   "metadata": {},
   "outputs": [
    {
     "data": {
      "text/plain": [
       "1422"
      ]
     },
     "execution_count": 155,
     "metadata": {},
     "output_type": "execute_result"
    }
   ],
   "source": [
    "len(word_dict)"
   ]
  },
  {
   "cell_type": "code",
   "execution_count": 156,
   "metadata": {},
   "outputs": [
    {
     "data": {
      "text/plain": [
       "1043"
      ]
     },
     "execution_count": 156,
     "metadata": {},
     "output_type": "execute_result"
    }
   ],
   "source": [
    "len({k:v for (k,v) in word_dict.items() if v < 4})"
   ]
  },
  {
   "cell_type": "code",
   "execution_count": 157,
   "metadata": {},
   "outputs": [],
   "source": [
    "negasi = ['bukan','tidak','ga','gk']\n",
    "lexicon = pd.read_csv('modified_full_lexicon.csv')\n",
    "lexicon = lexicon.drop(lexicon[(lexicon['word'] == 'bukan')\n",
    "                               |(lexicon['word'] == 'tidak')\n",
    "                               |(lexicon['word'] == 'ga')|(lexicon['word'] == 'gk') ].index,axis=0)\n",
    "lexicon = lexicon.reset_index(drop=True)"
   ]
  },
  {
   "cell_type": "code",
   "execution_count": 158,
   "metadata": {},
   "outputs": [
    {
     "data": {
      "text/plain": [
       "10248"
      ]
     },
     "execution_count": 158,
     "metadata": {},
     "output_type": "execute_result"
    }
   ],
   "source": [
    "len(lexicon)"
   ]
  },
  {
   "cell_type": "code",
   "execution_count": 159,
   "metadata": {},
   "outputs": [
    {
     "data": {
      "text/html": [
       "<div>\n",
       "<style scoped>\n",
       "    .dataframe tbody tr th:only-of-type {\n",
       "        vertical-align: middle;\n",
       "    }\n",
       "\n",
       "    .dataframe tbody tr th {\n",
       "        vertical-align: top;\n",
       "    }\n",
       "\n",
       "    .dataframe thead th {\n",
       "        text-align: right;\n",
       "    }\n",
       "</style>\n",
       "<table border=\"1\" class=\"dataframe\">\n",
       "  <thead>\n",
       "    <tr style=\"text-align: right;\">\n",
       "      <th></th>\n",
       "      <th>word</th>\n",
       "      <th>weight</th>\n",
       "      <th>number_of_words</th>\n",
       "    </tr>\n",
       "  </thead>\n",
       "  <tbody>\n",
       "    <tr>\n",
       "      <th>0</th>\n",
       "      <td>hai</td>\n",
       "      <td>3</td>\n",
       "      <td>1</td>\n",
       "    </tr>\n",
       "    <tr>\n",
       "      <th>1</th>\n",
       "      <td>merekam</td>\n",
       "      <td>2</td>\n",
       "      <td>1</td>\n",
       "    </tr>\n",
       "    <tr>\n",
       "      <th>2</th>\n",
       "      <td>ekstensif</td>\n",
       "      <td>3</td>\n",
       "      <td>1</td>\n",
       "    </tr>\n",
       "    <tr>\n",
       "      <th>3</th>\n",
       "      <td>paripurna</td>\n",
       "      <td>1</td>\n",
       "      <td>1</td>\n",
       "    </tr>\n",
       "    <tr>\n",
       "      <th>4</th>\n",
       "      <td>detail</td>\n",
       "      <td>2</td>\n",
       "      <td>1</td>\n",
       "    </tr>\n",
       "    <tr>\n",
       "      <th>5</th>\n",
       "      <td>pernik</td>\n",
       "      <td>3</td>\n",
       "      <td>1</td>\n",
       "    </tr>\n",
       "    <tr>\n",
       "      <th>6</th>\n",
       "      <td>belas</td>\n",
       "      <td>2</td>\n",
       "      <td>1</td>\n",
       "    </tr>\n",
       "    <tr>\n",
       "      <th>7</th>\n",
       "      <td>welas</td>\n",
       "      <td>4</td>\n",
       "      <td>1</td>\n",
       "    </tr>\n",
       "    <tr>\n",
       "      <th>8</th>\n",
       "      <td>kabung</td>\n",
       "      <td>1</td>\n",
       "      <td>1</td>\n",
       "    </tr>\n",
       "    <tr>\n",
       "      <th>9</th>\n",
       "      <td>rahayu</td>\n",
       "      <td>4</td>\n",
       "      <td>1</td>\n",
       "    </tr>\n",
       "  </tbody>\n",
       "</table>\n",
       "</div>"
      ],
      "text/plain": [
       "        word  weight  number_of_words\n",
       "0        hai       3                1\n",
       "1    merekam       2                1\n",
       "2  ekstensif       3                1\n",
       "3  paripurna       1                1\n",
       "4     detail       2                1\n",
       "5     pernik       3                1\n",
       "6      belas       2                1\n",
       "7      welas       4                1\n",
       "8     kabung       1                1\n",
       "9     rahayu       4                1"
      ]
     },
     "execution_count": 159,
     "metadata": {},
     "output_type": "execute_result"
    }
   ],
   "source": [
    "lexicon.head(10)"
   ]
  },
  {
   "cell_type": "code",
   "execution_count": 160,
   "metadata": {},
   "outputs": [],
   "source": [
    "lexicon_word = lexicon['word'].to_list()\n",
    "lexicon_num_words = lexicon['number_of_words']"
   ]
  },
  {
   "cell_type": "code",
   "execution_count": 161,
   "metadata": {},
   "outputs": [
    {
     "data": {
      "text/plain": [
       "10248"
      ]
     },
     "execution_count": 161,
     "metadata": {},
     "output_type": "execute_result"
    }
   ],
   "source": [
    "len(lexicon_word)"
   ]
  },
  {
   "cell_type": "code",
   "execution_count": 162,
   "metadata": {},
   "outputs": [
    {
     "data": {
      "text/plain": [
       "911"
      ]
     },
     "execution_count": 162,
     "metadata": {},
     "output_type": "execute_result"
    }
   ],
   "source": [
    "ns_words = []\n",
    "factory = StemmerFactory()\n",
    "stemmer = factory.create_stemmer()\n",
    "for word in word_dict.keys():\n",
    "    if word not in lexicon_word:\n",
    "        kata_dasar = stemmer.stem(word)\n",
    "        if kata_dasar not in lexicon_word:\n",
    "            ns_words.append(word)\n",
    "len(ns_words)"
   ]
  },
  {
   "cell_type": "code",
   "execution_count": 163,
   "metadata": {},
   "outputs": [
    {
     "data": {
      "text/plain": [
       "209"
      ]
     },
     "execution_count": 163,
     "metadata": {},
     "output_type": "execute_result"
    }
   ],
   "source": [
    "len({k:v for (k,v) in word_dict.items() if ((k in ns_words)&(v>3)) })"
   ]
  },
  {
   "cell_type": "code",
   "execution_count": 164,
   "metadata": {},
   "outputs": [],
   "source": [
    "ns_words_list = {k:v for (k,v) in word_dict.items() if ((k in ns_words)&(v>3))}"
   ]
  },
  {
   "cell_type": "code",
   "execution_count": 165,
   "metadata": {},
   "outputs": [
    {
     "name": "stdout",
     "output_type": "stream",
     "text": [
      "bukalapak 353\n",
      "kak 229\n",
      "bella 76\n",
      "kendala 73\n",
      "pake 63\n",
      "dm 60\n",
      "gak 58\n",
      "kakak 56\n",
      "yg 56\n",
      "ongkir 55\n",
      "udah 53\n",
      "ongkirgratis 51\n",
      "maks 48\n",
      "gue 47\n",
      "nih 44\n",
      "kendalanya 39\n",
      "emas 39\n",
      "rp 36\n",
      "min 36\n",
      "reksadana 35\n"
     ]
    }
   ],
   "source": [
    "sort_orders = sorted(ns_words_list.items(), key=lambda x: x[1], reverse=True)\n",
    "sort_orders=sort_orders[0:20]\n",
    "for i in sort_orders:\n",
    "    print(i[0], i[1])"
   ]
  },
  {
   "cell_type": "code",
   "execution_count": 166,
   "metadata": {},
   "outputs": [],
   "source": [
    "word_to_plot = df['tweet_preprocessing'].copy()"
   ]
  },
  {
   "cell_type": "code",
   "execution_count": 167,
   "metadata": {},
   "outputs": [],
   "source": [
    "word_to_plot_1 = word_to_plot.apply(lambda x: del_word(x,negasi))"
   ]
  },
  {
   "cell_type": "code",
   "execution_count": 168,
   "metadata": {},
   "outputs": [
    {
     "data": {
      "image/png": "[encoded data removed]",
      "text/plain": [
       "<Figure size 576x576 with 1 Axes>"
      ]
     },
     "metadata": {
      "needs_background": "light"
     },
     "output_type": "display_data"
    }
   ],
   "source": [
    "wordcloud = WordCloud(width = 800, height = 800, background_color = 'black', max_words = 1000\n",
    "                      , min_font_size = 20).generate(str(word_to_plot_1))\n",
    "#plot the word cloud\n",
    "fig = plt.figure(figsize = (8,8), facecolor = None)\n",
    "plt.imshow(wordcloud)\n",
    "plt.axis('off')\n",
    "plt.show()"
   ]
  },
  {
   "cell_type": "code",
   "execution_count": 169,
   "metadata": {},
   "outputs": [
    {
     "data": {
      "text/plain": [
       "1    9536\n",
       "2     686\n",
       "3      24\n",
       "4       2\n",
       "Name: number_of_words, dtype: int64"
      ]
     },
     "execution_count": 169,
     "metadata": {},
     "output_type": "execute_result"
    }
   ],
   "source": [
    "lexicon['number_of_words'].value_counts()"
   ]
  },
  {
   "cell_type": "code",
   "execution_count": 170,
   "metadata": {},
   "outputs": [
    {
     "data": {
      "text/plain": [
       "False"
      ]
     },
     "execution_count": 170,
     "metadata": {},
     "output_type": "execute_result"
    }
   ],
   "source": [
    "'baiklah' in word_dict"
   ]
  },
  {
   "cell_type": "code",
   "execution_count": 171,
   "metadata": {},
   "outputs": [
    {
     "data": {
      "text/plain": [
       "True"
      ]
     },
     "execution_count": 171,
     "metadata": {},
     "output_type": "execute_result"
    }
   ],
   "source": [
    "'baik' in lexicon_word"
   ]
  },
  {
   "cell_type": "code",
   "execution_count": 172,
   "metadata": {},
   "outputs": [],
   "source": [
    "sencol =[]\n",
    "senrow =np.array([])\n",
    "nsen = 0\n",
    "factory = StemmerFactory()\n",
    "stemmer = factory.create_stemmer()\n",
    "sentiment_list = []\n",
    "# function to write the word's sentiment if it is founded\n",
    "def found_word(ind,words,word,sen,sencol,sentiment,add):\n",
    "    # if it is already included in the bag of words matrix, then just increase the value\n",
    "    if word in sencol:\n",
    "        sen[sencol.index(word)] += 1\n",
    "    else:\n",
    "    #if not, than add new word\n",
    "        sencol.append(word)\n",
    "        sen.append(1)\n",
    "        add += 1\n",
    "    #if there is a negation word before it, the sentiment would be the negation of it's sentiment\n",
    "    if (words[ind-1] in negasi):\n",
    "        sentiment += -lexicon['weight'][lexicon_word.index(word)]\n",
    "    else:\n",
    "        sentiment += lexicon['weight'][lexicon_word.index(word)]\n",
    "    \n",
    "    return sen,sencol,sentiment,add\n",
    "            \n",
    "# checking every words, if they are appear in the lexicon, and then calculate their sentiment if they do\n",
    "for i in range(len(df)):\n",
    "    nsen = senrow.shape[0]\n",
    "    words = word_tokenize(df['tweet'][i])\n",
    "    sentiment = 0 \n",
    "    add = 0\n",
    "    prev = [0 for ii in range(len(words))]\n",
    "    n_words = len(words)\n",
    "    if len(sencol)>0:\n",
    "        sen =[0 for j in range(len(sencol))]\n",
    "    else:\n",
    "        sen =[]\n",
    "    \n",
    "    for word in words:\n",
    "        ind = words.index(word)\n",
    "        # check whether they are included in the lexicon\n",
    "        if word in lexicon_word :\n",
    "            sen,sencol,sentiment,add= found_word(ind,words,word,sen,sencol,sentiment,add)\n",
    "        else:\n",
    "        # if not, then check the root word\n",
    "            kata_dasar = stemmer.stem(word)\n",
    "            if kata_dasar in lexicon_word:\n",
    "                sen,sencol,sentiment,add= found_word(ind,words,kata_dasar,sen,sencol,sentiment,add)\n",
    "        # if still negative, try to match the combination of words with the adjacent words\n",
    "            elif(n_words>1):\n",
    "                if ind-1>-1:\n",
    "                    back_1    = words[ind-1]+' '+word\n",
    "                    if (back_1 in lexicon_word):\n",
    "                        sen,sencol,sentiment,add= found_word(ind,words,back_1,sen,sencol,sentiment,add)\n",
    "                    elif(ind-2>-1):\n",
    "                        back_2    = words[ind-2]+' '+back_1\n",
    "                        if back_2 in lexicon_word:\n",
    "                            sen,sencol,sentiment,add= found_word(ind,words,back_2,sen,sencol,sentiment,add)\n",
    "    # if there is new word founded, then expand the matrix\n",
    "    if add>0:  \n",
    "        if i>0:\n",
    "            if (nsen==0):\n",
    "                senrow = np.zeros([i,add],dtype=int)\n",
    "            elif(i!=nsen):\n",
    "                padding_h = np.zeros([nsen,add],dtype=int)\n",
    "                senrow = np.hstack((senrow,padding_h))\n",
    "                padding_v = np.zeros([(i-nsen),senrow.shape[1]],dtype=int)\n",
    "                senrow = np.vstack((senrow,padding_v))\n",
    "            else:\n",
    "                padding =np.zeros([nsen,add],dtype=int)\n",
    "                senrow = np.hstack((senrow,padding))\n",
    "            senrow = np.vstack((senrow,sen))\n",
    "        if i==0:\n",
    "            senrow = np.array(sen).reshape(1,len(sen))\n",
    "    # if there isn't then just update the old matrix\n",
    "    elif(nsen>0):\n",
    "        senrow = np.vstack((senrow,sen))\n",
    "        \n",
    "    sentiment_list.append(sentiment)"
   ]
  },
  {
   "cell_type": "code",
   "execution_count": 173,
   "metadata": {},
   "outputs": [
    {
     "data": {
      "text/plain": [
       "870"
      ]
     },
     "execution_count": 173,
     "metadata": {},
     "output_type": "execute_result"
    }
   ],
   "source": [
    "len(sentiment_list)"
   ]
  },
  {
   "cell_type": "code",
   "execution_count": 174,
   "metadata": {},
   "outputs": [
    {
     "name": "stdout",
     "output_type": "stream",
     "text": [
      "870\n"
     ]
    }
   ],
   "source": [
    "\n",
    "print(senrow.shape[0])"
   ]
  },
  {
   "cell_type": "code",
   "execution_count": 175,
   "metadata": {},
   "outputs": [],
   "source": [
    "sencol.append('sentiment')\n",
    "sentiment_array = np.array(sentiment_list).reshape(senrow.shape[0],1)\n",
    "sentiment_data = np.hstack((senrow,sentiment_array))\n",
    "df_sen = pd.DataFrame(sentiment_data,columns = sencol)"
   ]
  },
  {
   "cell_type": "code",
   "execution_count": 176,
   "metadata": {},
   "outputs": [
    {
     "data": {
      "text/html": [
       "<div>\n",
       "<style scoped>\n",
       "    .dataframe tbody tr th:only-of-type {\n",
       "        vertical-align: middle;\n",
       "    }\n",
       "\n",
       "    .dataframe tbody tr th {\n",
       "        vertical-align: top;\n",
       "    }\n",
       "\n",
       "    .dataframe thead th {\n",
       "        text-align: right;\n",
       "    }\n",
       "</style>\n",
       "<table border=\"1\" class=\"dataframe\">\n",
       "  <thead>\n",
       "    <tr style=\"text-align: right;\">\n",
       "      <th></th>\n",
       "      <th>maaf</th>\n",
       "      <th>ya</th>\n",
       "      <th>bantu</th>\n",
       "      <th>silakan</th>\n",
       "      <th>yuk</th>\n",
       "      <th>hadiah</th>\n",
       "      <th>guys</th>\n",
       "      <th>ajak</th>\n",
       "      <th>bergabung</th>\n",
       "      <th>beri</th>\n",
       "      <th>...</th>\n",
       "      <th>typo</th>\n",
       "      <th>lap</th>\n",
       "      <th>sebenernya</th>\n",
       "      <th>cantum</th>\n",
       "      <th>kam</th>\n",
       "      <th>tampilan</th>\n",
       "      <th>ampun</th>\n",
       "      <th>cari</th>\n",
       "      <th>ngeri</th>\n",
       "      <th>sentiment</th>\n",
       "    </tr>\n",
       "  </thead>\n",
       "  <tbody>\n",
       "    <tr>\n",
       "      <th>0</th>\n",
       "      <td>1</td>\n",
       "      <td>2</td>\n",
       "      <td>1</td>\n",
       "      <td>1</td>\n",
       "      <td>0</td>\n",
       "      <td>0</td>\n",
       "      <td>0</td>\n",
       "      <td>0</td>\n",
       "      <td>0</td>\n",
       "      <td>0</td>\n",
       "      <td>...</td>\n",
       "      <td>0</td>\n",
       "      <td>0</td>\n",
       "      <td>0</td>\n",
       "      <td>0</td>\n",
       "      <td>0</td>\n",
       "      <td>0</td>\n",
       "      <td>0</td>\n",
       "      <td>0</td>\n",
       "      <td>0</td>\n",
       "      <td>14</td>\n",
       "    </tr>\n",
       "    <tr>\n",
       "      <th>1</th>\n",
       "      <td>0</td>\n",
       "      <td>0</td>\n",
       "      <td>0</td>\n",
       "      <td>0</td>\n",
       "      <td>1</td>\n",
       "      <td>1</td>\n",
       "      <td>1</td>\n",
       "      <td>0</td>\n",
       "      <td>0</td>\n",
       "      <td>0</td>\n",
       "      <td>...</td>\n",
       "      <td>0</td>\n",
       "      <td>0</td>\n",
       "      <td>0</td>\n",
       "      <td>0</td>\n",
       "      <td>0</td>\n",
       "      <td>0</td>\n",
       "      <td>0</td>\n",
       "      <td>0</td>\n",
       "      <td>0</td>\n",
       "      <td>9</td>\n",
       "    </tr>\n",
       "    <tr>\n",
       "      <th>2</th>\n",
       "      <td>1</td>\n",
       "      <td>2</td>\n",
       "      <td>1</td>\n",
       "      <td>1</td>\n",
       "      <td>0</td>\n",
       "      <td>0</td>\n",
       "      <td>0</td>\n",
       "      <td>0</td>\n",
       "      <td>0</td>\n",
       "      <td>0</td>\n",
       "      <td>...</td>\n",
       "      <td>0</td>\n",
       "      <td>0</td>\n",
       "      <td>0</td>\n",
       "      <td>0</td>\n",
       "      <td>0</td>\n",
       "      <td>0</td>\n",
       "      <td>0</td>\n",
       "      <td>0</td>\n",
       "      <td>0</td>\n",
       "      <td>14</td>\n",
       "    </tr>\n",
       "    <tr>\n",
       "      <th>3</th>\n",
       "      <td>0</td>\n",
       "      <td>0</td>\n",
       "      <td>0</td>\n",
       "      <td>0</td>\n",
       "      <td>0</td>\n",
       "      <td>0</td>\n",
       "      <td>0</td>\n",
       "      <td>1</td>\n",
       "      <td>1</td>\n",
       "      <td>1</td>\n",
       "      <td>...</td>\n",
       "      <td>0</td>\n",
       "      <td>0</td>\n",
       "      <td>0</td>\n",
       "      <td>0</td>\n",
       "      <td>0</td>\n",
       "      <td>0</td>\n",
       "      <td>0</td>\n",
       "      <td>0</td>\n",
       "      <td>0</td>\n",
       "      <td>-5</td>\n",
       "    </tr>\n",
       "    <tr>\n",
       "      <th>4</th>\n",
       "      <td>0</td>\n",
       "      <td>0</td>\n",
       "      <td>0</td>\n",
       "      <td>0</td>\n",
       "      <td>0</td>\n",
       "      <td>0</td>\n",
       "      <td>0</td>\n",
       "      <td>0</td>\n",
       "      <td>0</td>\n",
       "      <td>0</td>\n",
       "      <td>...</td>\n",
       "      <td>0</td>\n",
       "      <td>0</td>\n",
       "      <td>0</td>\n",
       "      <td>0</td>\n",
       "      <td>0</td>\n",
       "      <td>0</td>\n",
       "      <td>0</td>\n",
       "      <td>0</td>\n",
       "      <td>0</td>\n",
       "      <td>11</td>\n",
       "    </tr>\n",
       "    <tr>\n",
       "      <th>5</th>\n",
       "      <td>0</td>\n",
       "      <td>0</td>\n",
       "      <td>0</td>\n",
       "      <td>0</td>\n",
       "      <td>0</td>\n",
       "      <td>0</td>\n",
       "      <td>0</td>\n",
       "      <td>0</td>\n",
       "      <td>0</td>\n",
       "      <td>0</td>\n",
       "      <td>...</td>\n",
       "      <td>0</td>\n",
       "      <td>0</td>\n",
       "      <td>0</td>\n",
       "      <td>0</td>\n",
       "      <td>0</td>\n",
       "      <td>0</td>\n",
       "      <td>0</td>\n",
       "      <td>0</td>\n",
       "      <td>0</td>\n",
       "      <td>6</td>\n",
       "    </tr>\n",
       "    <tr>\n",
       "      <th>6</th>\n",
       "      <td>0</td>\n",
       "      <td>1</td>\n",
       "      <td>0</td>\n",
       "      <td>0</td>\n",
       "      <td>0</td>\n",
       "      <td>0</td>\n",
       "      <td>0</td>\n",
       "      <td>0</td>\n",
       "      <td>0</td>\n",
       "      <td>0</td>\n",
       "      <td>...</td>\n",
       "      <td>0</td>\n",
       "      <td>0</td>\n",
       "      <td>0</td>\n",
       "      <td>0</td>\n",
       "      <td>0</td>\n",
       "      <td>0</td>\n",
       "      <td>0</td>\n",
       "      <td>0</td>\n",
       "      <td>0</td>\n",
       "      <td>2</td>\n",
       "    </tr>\n",
       "    <tr>\n",
       "      <th>7</th>\n",
       "      <td>0</td>\n",
       "      <td>0</td>\n",
       "      <td>0</td>\n",
       "      <td>0</td>\n",
       "      <td>0</td>\n",
       "      <td>0</td>\n",
       "      <td>0</td>\n",
       "      <td>0</td>\n",
       "      <td>0</td>\n",
       "      <td>0</td>\n",
       "      <td>...</td>\n",
       "      <td>0</td>\n",
       "      <td>0</td>\n",
       "      <td>0</td>\n",
       "      <td>0</td>\n",
       "      <td>0</td>\n",
       "      <td>0</td>\n",
       "      <td>0</td>\n",
       "      <td>0</td>\n",
       "      <td>0</td>\n",
       "      <td>4</td>\n",
       "    </tr>\n",
       "    <tr>\n",
       "      <th>8</th>\n",
       "      <td>1</td>\n",
       "      <td>2</td>\n",
       "      <td>1</td>\n",
       "      <td>1</td>\n",
       "      <td>0</td>\n",
       "      <td>0</td>\n",
       "      <td>0</td>\n",
       "      <td>0</td>\n",
       "      <td>0</td>\n",
       "      <td>0</td>\n",
       "      <td>...</td>\n",
       "      <td>0</td>\n",
       "      <td>0</td>\n",
       "      <td>0</td>\n",
       "      <td>0</td>\n",
       "      <td>0</td>\n",
       "      <td>0</td>\n",
       "      <td>0</td>\n",
       "      <td>0</td>\n",
       "      <td>0</td>\n",
       "      <td>11</td>\n",
       "    </tr>\n",
       "    <tr>\n",
       "      <th>9</th>\n",
       "      <td>0</td>\n",
       "      <td>0</td>\n",
       "      <td>0</td>\n",
       "      <td>0</td>\n",
       "      <td>0</td>\n",
       "      <td>0</td>\n",
       "      <td>0</td>\n",
       "      <td>0</td>\n",
       "      <td>0</td>\n",
       "      <td>0</td>\n",
       "      <td>...</td>\n",
       "      <td>0</td>\n",
       "      <td>0</td>\n",
       "      <td>0</td>\n",
       "      <td>0</td>\n",
       "      <td>0</td>\n",
       "      <td>0</td>\n",
       "      <td>0</td>\n",
       "      <td>0</td>\n",
       "      <td>0</td>\n",
       "      <td>11</td>\n",
       "    </tr>\n",
       "  </tbody>\n",
       "</table>\n",
       "<p>10 rows × 445 columns</p>\n",
       "</div>"
      ],
      "text/plain": [
       "   maaf  ya  bantu  silakan  yuk  hadiah  guys  ajak  bergabung  beri  ...  \\\n",
       "0     1   2      1        1    0       0     0     0          0     0  ...   \n",
       "1     0   0      0        0    1       1     1     0          0     0  ...   \n",
       "2     1   2      1        1    0       0     0     0          0     0  ...   \n",
       "3     0   0      0        0    0       0     0     1          1     1  ...   \n",
       "4     0   0      0        0    0       0     0     0          0     0  ...   \n",
       "5     0   0      0        0    0       0     0     0          0     0  ...   \n",
       "6     0   1      0        0    0       0     0     0          0     0  ...   \n",
       "7     0   0      0        0    0       0     0     0          0     0  ...   \n",
       "8     1   2      1        1    0       0     0     0          0     0  ...   \n",
       "9     0   0      0        0    0       0     0     0          0     0  ...   \n",
       "\n",
       "   typo  lap  sebenernya  cantum  kam  tampilan  ampun  cari  ngeri  sentiment  \n",
       "0     0    0           0       0    0         0      0     0      0         14  \n",
       "1     0    0           0       0    0         0      0     0      0          9  \n",
       "2     0    0           0       0    0         0      0     0      0         14  \n",
       "3     0    0           0       0    0         0      0     0      0         -5  \n",
       "4     0    0           0       0    0         0      0     0      0         11  \n",
       "5     0    0           0       0    0         0      0     0      0          6  \n",
       "6     0    0           0       0    0         0      0     0      0          2  \n",
       "7     0    0           0       0    0         0      0     0      0          4  \n",
       "8     0    0           0       0    0         0      0     0      0         11  \n",
       "9     0    0           0       0    0         0      0     0      0         11  \n",
       "\n",
       "[10 rows x 445 columns]"
      ]
     },
     "execution_count": 176,
     "metadata": {},
     "output_type": "execute_result"
    }
   ],
   "source": [
    "df_sen.head(10)"
   ]
  },
  {
   "cell_type": "code",
   "execution_count": 177,
   "metadata": {},
   "outputs": [],
   "source": [
    "\n",
    "cek_df = pd.DataFrame([])\n",
    "cek_df['text'] = df['tweet_preprocessing'].copy()\n",
    "cek_df['sentiment']  = df_sen['sentiment'].copy()"
   ]
  },
  {
   "cell_type": "code",
   "execution_count": 178,
   "metadata": {},
   "outputs": [
    {
     "data": {
      "text/html": [
       "<div>\n",
       "<style scoped>\n",
       "    .dataframe tbody tr th:only-of-type {\n",
       "        vertical-align: middle;\n",
       "    }\n",
       "\n",
       "    .dataframe tbody tr th {\n",
       "        vertical-align: top;\n",
       "    }\n",
       "\n",
       "    .dataframe thead th {\n",
       "        text-align: right;\n",
       "    }\n",
       "</style>\n",
       "<table border=\"1\" class=\"dataframe\">\n",
       "  <thead>\n",
       "    <tr style=\"text-align: right;\">\n",
       "      <th></th>\n",
       "      <th>text</th>\n",
       "      <th>sentiment</th>\n",
       "    </tr>\n",
       "  </thead>\n",
       "  <tbody>\n",
       "    <tr>\n",
       "      <th>0</th>\n",
       "      <td>kak maaf kendalanya ya kak bella bantu kendala kakak inbox ya kak silakan kakak</td>\n",
       "      <td>14</td>\n",
       "    </tr>\n",
       "    <tr>\n",
       "      <th>1</th>\n",
       "      <td>follow yuk byk hadiah guys</td>\n",
       "      <td>9</td>\n",
       "    </tr>\n",
       "    <tr>\n",
       "      <th>2</th>\n",
       "      <td>kak maaf kendalanya ya kak bella bantu kendala kakak inbox ya kak silakan kakak</td>\n",
       "      <td>14</td>\n",
       "    </tr>\n",
       "    <tr>\n",
       "      <th>3</th>\n",
       "      <td>mengajakmu bergabung bukalapak memberikanmu credits rp cek</td>\n",
       "      <td>-5</td>\n",
       "    </tr>\n",
       "    <tr>\n",
       "      <th>4</th>\n",
       "      <td>tolong nomor dana hangus memutus akun dana</td>\n",
       "      <td>11</td>\n",
       "    </tr>\n",
       "    <tr>\n",
       "      <th>5</th>\n",
       "      <td>belanja pengiriman pakai jasa terimakasih jnt</td>\n",
       "      <td>6</td>\n",
       "    </tr>\n",
       "    <tr>\n",
       "      <th>6</th>\n",
       "      <td>malam min knp ga login ya padhal udah bener sms kode bener gagal</td>\n",
       "      <td>2</td>\n",
       "    </tr>\n",
       "    <tr>\n",
       "      <th>7</th>\n",
       "      <td>tolong balas dmnya yaa</td>\n",
       "      <td>4</td>\n",
       "    </tr>\n",
       "    <tr>\n",
       "      <th>8</th>\n",
       "      <td>hi kak maaf kendalanya ya kak bella bantu inbox ya kak kendalanya silakan kakak cek inbox kakak</td>\n",
       "      <td>11</td>\n",
       "    </tr>\n",
       "    <tr>\n",
       "      <th>9</th>\n",
       "      <td>gratisan pake kode ongkirgratis pas belanja bukalapak biar ongkir gratis maks rprb berlaku</td>\n",
       "      <td>11</td>\n",
       "    </tr>\n",
       "  </tbody>\n",
       "</table>\n",
       "</div>"
      ],
      "text/plain": [
       "                                                                                               text  \\\n",
       "0                   kak maaf kendalanya ya kak bella bantu kendala kakak inbox ya kak silakan kakak   \n",
       "1                                                                        follow yuk byk hadiah guys   \n",
       "2                   kak maaf kendalanya ya kak bella bantu kendala kakak inbox ya kak silakan kakak   \n",
       "3                                       mengajakmu bergabung bukalapak memberikanmu credits rp cek    \n",
       "4                                                        tolong nomor dana hangus memutus akun dana   \n",
       "5                                                     belanja pengiriman pakai jasa terimakasih jnt   \n",
       "6                                  malam min knp ga login ya padhal udah bener sms kode bener gagal   \n",
       "7                                                                            tolong balas dmnya yaa   \n",
       "8  hi kak maaf kendalanya ya kak bella bantu inbox ya kak kendalanya silakan kakak cek inbox kakak    \n",
       "9        gratisan pake kode ongkirgratis pas belanja bukalapak biar ongkir gratis maks rprb berlaku   \n",
       "\n",
       "   sentiment  \n",
       "0         14  \n",
       "1          9  \n",
       "2         14  \n",
       "3         -5  \n",
       "4         11  \n",
       "5          6  \n",
       "6          2  \n",
       "7          4  \n",
       "8         11  \n",
       "9         11  "
      ]
     },
     "execution_count": 178,
     "metadata": {},
     "output_type": "execute_result"
    }
   ],
   "source": [
    "cek_df.head(10)"
   ]
  },
  {
   "cell_type": "code",
   "execution_count": 179,
   "metadata": {},
   "outputs": [
    {
     "data": {
      "text/html": [
       "<div>\n",
       "<style scoped>\n",
       "    .dataframe tbody tr th:only-of-type {\n",
       "        vertical-align: middle;\n",
       "    }\n",
       "\n",
       "    .dataframe tbody tr th {\n",
       "        vertical-align: top;\n",
       "    }\n",
       "\n",
       "    .dataframe thead th {\n",
       "        text-align: right;\n",
       "    }\n",
       "</style>\n",
       "<table border=\"1\" class=\"dataframe\">\n",
       "  <thead>\n",
       "    <tr style=\"text-align: right;\">\n",
       "      <th></th>\n",
       "      <th>maaf</th>\n",
       "      <th>ya</th>\n",
       "      <th>bantu</th>\n",
       "      <th>silakan</th>\n",
       "      <th>yuk</th>\n",
       "      <th>hadiah</th>\n",
       "      <th>guys</th>\n",
       "      <th>ajak</th>\n",
       "      <th>bergabung</th>\n",
       "      <th>beri</th>\n",
       "      <th>...</th>\n",
       "      <th>typo</th>\n",
       "      <th>lap</th>\n",
       "      <th>sebenernya</th>\n",
       "      <th>cantum</th>\n",
       "      <th>kam</th>\n",
       "      <th>tampilan</th>\n",
       "      <th>ampun</th>\n",
       "      <th>cari</th>\n",
       "      <th>ngeri</th>\n",
       "      <th>sentiment</th>\n",
       "    </tr>\n",
       "  </thead>\n",
       "  <tbody>\n",
       "    <tr>\n",
       "      <th>count</th>\n",
       "      <td>870.000000</td>\n",
       "      <td>870.000000</td>\n",
       "      <td>870.000000</td>\n",
       "      <td>870.000000</td>\n",
       "      <td>870.000000</td>\n",
       "      <td>870.000000</td>\n",
       "      <td>870.000000</td>\n",
       "      <td>870.000000</td>\n",
       "      <td>870.000000</td>\n",
       "      <td>870.000000</td>\n",
       "      <td>...</td>\n",
       "      <td>870.000000</td>\n",
       "      <td>870.000000</td>\n",
       "      <td>870.000000</td>\n",
       "      <td>870.000000</td>\n",
       "      <td>870.000000</td>\n",
       "      <td>870.000000</td>\n",
       "      <td>870.000000</td>\n",
       "      <td>870.000000</td>\n",
       "      <td>870.000000</td>\n",
       "      <td>870.000000</td>\n",
       "    </tr>\n",
       "    <tr>\n",
       "      <th>mean</th>\n",
       "      <td>0.133333</td>\n",
       "      <td>0.185057</td>\n",
       "      <td>0.047126</td>\n",
       "      <td>0.013793</td>\n",
       "      <td>0.066667</td>\n",
       "      <td>0.012644</td>\n",
       "      <td>0.001149</td>\n",
       "      <td>0.028736</td>\n",
       "      <td>0.028736</td>\n",
       "      <td>0.027586</td>\n",
       "      <td>...</td>\n",
       "      <td>0.001149</td>\n",
       "      <td>0.001149</td>\n",
       "      <td>0.001149</td>\n",
       "      <td>0.001149</td>\n",
       "      <td>0.001149</td>\n",
       "      <td>0.001149</td>\n",
       "      <td>0.001149</td>\n",
       "      <td>0.002299</td>\n",
       "      <td>0.001149</td>\n",
       "      <td>4.636782</td>\n",
       "    </tr>\n",
       "    <tr>\n",
       "      <th>std</th>\n",
       "      <td>0.340130</td>\n",
       "      <td>0.449019</td>\n",
       "      <td>0.212031</td>\n",
       "      <td>0.116698</td>\n",
       "      <td>0.258644</td>\n",
       "      <td>0.111795</td>\n",
       "      <td>0.033903</td>\n",
       "      <td>0.167159</td>\n",
       "      <td>0.167159</td>\n",
       "      <td>0.163878</td>\n",
       "      <td>...</td>\n",
       "      <td>0.033903</td>\n",
       "      <td>0.033903</td>\n",
       "      <td>0.033903</td>\n",
       "      <td>0.033903</td>\n",
       "      <td>0.033903</td>\n",
       "      <td>0.033903</td>\n",
       "      <td>0.033903</td>\n",
       "      <td>0.047919</td>\n",
       "      <td>0.033903</td>\n",
       "      <td>6.766977</td>\n",
       "    </tr>\n",
       "    <tr>\n",
       "      <th>min</th>\n",
       "      <td>0.000000</td>\n",
       "      <td>0.000000</td>\n",
       "      <td>0.000000</td>\n",
       "      <td>0.000000</td>\n",
       "      <td>0.000000</td>\n",
       "      <td>0.000000</td>\n",
       "      <td>0.000000</td>\n",
       "      <td>0.000000</td>\n",
       "      <td>0.000000</td>\n",
       "      <td>0.000000</td>\n",
       "      <td>...</td>\n",
       "      <td>0.000000</td>\n",
       "      <td>0.000000</td>\n",
       "      <td>0.000000</td>\n",
       "      <td>0.000000</td>\n",
       "      <td>0.000000</td>\n",
       "      <td>0.000000</td>\n",
       "      <td>0.000000</td>\n",
       "      <td>0.000000</td>\n",
       "      <td>0.000000</td>\n",
       "      <td>-9.000000</td>\n",
       "    </tr>\n",
       "    <tr>\n",
       "      <th>25%</th>\n",
       "      <td>0.000000</td>\n",
       "      <td>0.000000</td>\n",
       "      <td>0.000000</td>\n",
       "      <td>0.000000</td>\n",
       "      <td>0.000000</td>\n",
       "      <td>0.000000</td>\n",
       "      <td>0.000000</td>\n",
       "      <td>0.000000</td>\n",
       "      <td>0.000000</td>\n",
       "      <td>0.000000</td>\n",
       "      <td>...</td>\n",
       "      <td>0.000000</td>\n",
       "      <td>0.000000</td>\n",
       "      <td>0.000000</td>\n",
       "      <td>0.000000</td>\n",
       "      <td>0.000000</td>\n",
       "      <td>0.000000</td>\n",
       "      <td>0.000000</td>\n",
       "      <td>0.000000</td>\n",
       "      <td>0.000000</td>\n",
       "      <td>0.000000</td>\n",
       "    </tr>\n",
       "    <tr>\n",
       "      <th>50%</th>\n",
       "      <td>0.000000</td>\n",
       "      <td>0.000000</td>\n",
       "      <td>0.000000</td>\n",
       "      <td>0.000000</td>\n",
       "      <td>0.000000</td>\n",
       "      <td>0.000000</td>\n",
       "      <td>0.000000</td>\n",
       "      <td>0.000000</td>\n",
       "      <td>0.000000</td>\n",
       "      <td>0.000000</td>\n",
       "      <td>...</td>\n",
       "      <td>0.000000</td>\n",
       "      <td>0.000000</td>\n",
       "      <td>0.000000</td>\n",
       "      <td>0.000000</td>\n",
       "      <td>0.000000</td>\n",
       "      <td>0.000000</td>\n",
       "      <td>0.000000</td>\n",
       "      <td>0.000000</td>\n",
       "      <td>0.000000</td>\n",
       "      <td>4.000000</td>\n",
       "    </tr>\n",
       "    <tr>\n",
       "      <th>75%</th>\n",
       "      <td>0.000000</td>\n",
       "      <td>0.000000</td>\n",
       "      <td>0.000000</td>\n",
       "      <td>0.000000</td>\n",
       "      <td>0.000000</td>\n",
       "      <td>0.000000</td>\n",
       "      <td>0.000000</td>\n",
       "      <td>0.000000</td>\n",
       "      <td>0.000000</td>\n",
       "      <td>0.000000</td>\n",
       "      <td>...</td>\n",
       "      <td>0.000000</td>\n",
       "      <td>0.000000</td>\n",
       "      <td>0.000000</td>\n",
       "      <td>0.000000</td>\n",
       "      <td>0.000000</td>\n",
       "      <td>0.000000</td>\n",
       "      <td>0.000000</td>\n",
       "      <td>0.000000</td>\n",
       "      <td>0.000000</td>\n",
       "      <td>10.000000</td>\n",
       "    </tr>\n",
       "    <tr>\n",
       "      <th>max</th>\n",
       "      <td>1.000000</td>\n",
       "      <td>2.000000</td>\n",
       "      <td>1.000000</td>\n",
       "      <td>1.000000</td>\n",
       "      <td>2.000000</td>\n",
       "      <td>1.000000</td>\n",
       "      <td>1.000000</td>\n",
       "      <td>1.000000</td>\n",
       "      <td>1.000000</td>\n",
       "      <td>1.000000</td>\n",
       "      <td>...</td>\n",
       "      <td>1.000000</td>\n",
       "      <td>1.000000</td>\n",
       "      <td>1.000000</td>\n",
       "      <td>1.000000</td>\n",
       "      <td>1.000000</td>\n",
       "      <td>1.000000</td>\n",
       "      <td>1.000000</td>\n",
       "      <td>1.000000</td>\n",
       "      <td>1.000000</td>\n",
       "      <td>26.000000</td>\n",
       "    </tr>\n",
       "  </tbody>\n",
       "</table>\n",
       "<p>8 rows × 445 columns</p>\n",
       "</div>"
      ],
      "text/plain": [
       "             maaf          ya       bantu     silakan         yuk      hadiah  \\\n",
       "count  870.000000  870.000000  870.000000  870.000000  870.000000  870.000000   \n",
       "mean     0.133333    0.185057    0.047126    0.013793    0.066667    0.012644   \n",
       "std      0.340130    0.449019    0.212031    0.116698    0.258644    0.111795   \n",
       "min      0.000000    0.000000    0.000000    0.000000    0.000000    0.000000   \n",
       "25%      0.000000    0.000000    0.000000    0.000000    0.000000    0.000000   \n",
       "50%      0.000000    0.000000    0.000000    0.000000    0.000000    0.000000   \n",
       "75%      0.000000    0.000000    0.000000    0.000000    0.000000    0.000000   \n",
       "max      1.000000    2.000000    1.000000    1.000000    2.000000    1.000000   \n",
       "\n",
       "             guys        ajak   bergabung        beri  ...        typo  \\\n",
       "count  870.000000  870.000000  870.000000  870.000000  ...  870.000000   \n",
       "mean     0.001149    0.028736    0.028736    0.027586  ...    0.001149   \n",
       "std      0.033903    0.167159    0.167159    0.163878  ...    0.033903   \n",
       "min      0.000000    0.000000    0.000000    0.000000  ...    0.000000   \n",
       "25%      0.000000    0.000000    0.000000    0.000000  ...    0.000000   \n",
       "50%      0.000000    0.000000    0.000000    0.000000  ...    0.000000   \n",
       "75%      0.000000    0.000000    0.000000    0.000000  ...    0.000000   \n",
       "max      1.000000    1.000000    1.000000    1.000000  ...    1.000000   \n",
       "\n",
       "              lap  sebenernya      cantum         kam    tampilan       ampun  \\\n",
       "count  870.000000  870.000000  870.000000  870.000000  870.000000  870.000000   \n",
       "mean     0.001149    0.001149    0.001149    0.001149    0.001149    0.001149   \n",
       "std      0.033903    0.033903    0.033903    0.033903    0.033903    0.033903   \n",
       "min      0.000000    0.000000    0.000000    0.000000    0.000000    0.000000   \n",
       "25%      0.000000    0.000000    0.000000    0.000000    0.000000    0.000000   \n",
       "50%      0.000000    0.000000    0.000000    0.000000    0.000000    0.000000   \n",
       "75%      0.000000    0.000000    0.000000    0.000000    0.000000    0.000000   \n",
       "max      1.000000    1.000000    1.000000    1.000000    1.000000    1.000000   \n",
       "\n",
       "             cari       ngeri   sentiment  \n",
       "count  870.000000  870.000000  870.000000  \n",
       "mean     0.002299    0.001149    4.636782  \n",
       "std      0.047919    0.033903    6.766977  \n",
       "min      0.000000    0.000000   -9.000000  \n",
       "25%      0.000000    0.000000    0.000000  \n",
       "50%      0.000000    0.000000    4.000000  \n",
       "75%      0.000000    0.000000   10.000000  \n",
       "max      1.000000    1.000000   26.000000  \n",
       "\n",
       "[8 rows x 445 columns]"
      ]
     },
     "execution_count": 179,
     "metadata": {},
     "output_type": "execute_result"
    }
   ],
   "source": [
    "df_sen.describe()"
   ]
  },
  {
   "cell_type": "code",
   "execution_count": 180,
   "metadata": {},
   "outputs": [],
   "source": [
    "def get_redundant_pairs(df):\n",
    "    '''Get diagonal and lower triangular pairs of correlation matrix'''\n",
    "    pairs_to_drop = set()\n",
    "    cols = df.columns\n",
    "    for i in range(0, df.shape[1]):\n",
    "        for j in range(0, i+1):\n",
    "            pairs_to_drop.add((cols[i], cols[j]))\n",
    "    return pairs_to_drop\n",
    "\n",
    "def get_top_abs_correlations(df, n=10):\n",
    "    au_corr = df.corr().abs().unstack()\n",
    "    labels_to_drop = get_redundant_pairs(df)\n",
    "    au_corr = au_corr.drop(labels=labels_to_drop).sort_values(ascending=False)\n",
    "    return au_corr\n",
    "\n",
    "#print(\"Top Absolute Correlations\")\n",
    "#print(get_top_abs_correlations(df_sen, 10))\n",
    "au = get_top_abs_correlations(df_sen, 15)"
   ]
  },
  {
   "cell_type": "code",
   "execution_count": 181,
   "metadata": {},
   "outputs": [
    {
     "name": "stdout",
     "output_type": "stream",
     "text": [
      "Perfect Correlation\n"
     ]
    },
    {
     "data": {
      "text/plain": [
       "keburu     curiga      1.0\n",
       "peristiwa  dunia       1.0\n",
       "mending    deposito    1.0\n",
       "gede       bunga       1.0\n",
       "           deposito    1.0\n",
       "                      ... \n",
       "beliin     mamah       1.0\n",
       "bertahan   diproses    1.0\n",
       "novel      import      1.0\n",
       "kuat       tenaga      1.0\n",
       "novel      fiksi       1.0\n",
       "Length: 91, dtype: float64"
      ]
     },
     "execution_count": 181,
     "metadata": {},
     "output_type": "execute_result"
    }
   ],
   "source": [
    "print('Perfect Correlation')\n",
    "au[au==1]"
   ]
  },
  {
   "cell_type": "code",
   "execution_count": 182,
   "metadata": {},
   "outputs": [],
   "source": [
    "top10 = au[au<float(1)][0:10]\n",
    "label = top10.index\n",
    "label_list =[]\n",
    "for i in label:\n",
    "    for j in i:\n",
    "        if(j not in label_list):\n",
    "            label_list.append(j)\n",
    "            \n",
    "df_sen_corr = df_sen[label_list]\n",
    "corr = df_sen_corr.corr()\n",
    "for i in label_list:\n",
    "    for j in label_list:\n",
    "        if i!=j:\n",
    "            corr[i][j] = round(corr[i][j],3)"
   ]
  },
  {
   "cell_type": "code",
   "execution_count": 183,
   "metadata": {},
   "outputs": [
    {
     "data": {
      "image/png": "[encoded data removed]",
      "text/plain": [
       "<Figure size 1080x1080 with 2 Axes>"
      ]
     },
     "metadata": {
      "needs_background": "light"
     },
     "output_type": "display_data"
    }
   ],
   "source": [
    "plt.figure(figsize=(15,15))\n",
    "\n",
    "h = sns.heatmap(corr, annot=True,vmin=-1, vmax=1, center= 0)\n",
    "\n",
    "plt.show()"
   ]
  },
  {
   "cell_type": "code",
   "execution_count": 184,
   "metadata": {},
   "outputs": [],
   "source": [
    "top15 = au[au<float(1)][0:15]"
   ]
  },
  {
   "cell_type": "code",
   "execution_count": 185,
   "metadata": {},
   "outputs": [
    {
     "data": {
      "image/png": "[encoded data removed]",
      "text/plain": [
       "<Figure size 432x288 with 1 Axes>"
      ]
     },
     "metadata": {
      "needs_background": "light"
     },
     "output_type": "display_data"
    }
   ],
   "source": [
    "pal =sns.dark_palette(\"purple\", input=\"xkcd\",n_colors=15)\n",
    "g = sns.barplot(y = top15.index , x = top15,palette=pal)\n",
    "g.grid=False\n",
    "plt.xlabel('correlation')\n",
    "plt.ylabel('pair of words')\n",
    "plt.title(\"Top 15 Not-Perfect Correlation\",fontweight='bold') \n",
    "for i in range(15):\n",
    "    g.text(top15[i],i+0.22, round(top15[i],3),color='black')\n",
    "plt.show()"
   ]
  },
  {
   "cell_type": "code",
   "execution_count": 186,
   "metadata": {},
   "outputs": [],
   "source": [
    "top15_word = df_sen.drop(['sentiment'],axis=1).sum().sort_values(ascending=False)[0:15]"
   ]
  },
  {
   "cell_type": "code",
   "execution_count": 187,
   "metadata": {},
   "outputs": [
    {
     "data": {
      "image/png": "[encoded data removed]",
      "text/plain": [
       "<Figure size 432x288 with 1 Axes>"
      ]
     },
     "metadata": {
      "needs_background": "light"
     },
     "output_type": "display_data"
    }
   ],
   "source": [
    "#pal =sns.dark_palette(\"purple\", input=\"xkcd\",n_colors=15)\n",
    "pal =sns.light_palette(\"navy\", reverse=True,n_colors=15)\n",
    "g = sns.barplot(y = top15_word.index , x = top15_word,palette=pal)\n",
    "g.grid(False)\n",
    "plt.xlabel('Occurences')\n",
    "plt.ylabel('Words')\n",
    "plt.title(\"Top 15 Most Often Occured Words\",fontweight='bold') \n",
    "for i in range(15):\n",
    "    g.text(top15_word[i],i+0.22, top15_word[i],color='black')\n",
    "plt.show()"
   ]
  },
  {
   "cell_type": "code",
   "execution_count": 188,
   "metadata": {},
   "outputs": [],
   "source": [
    "df['sentiment'] = df_sen['sentiment']"
   ]
  },
  {
   "cell_type": "code",
   "execution_count": 189,
   "metadata": {},
   "outputs": [
    {
     "data": {
      "text/html": [
       "<div>\n",
       "<style scoped>\n",
       "    .dataframe tbody tr th:only-of-type {\n",
       "        vertical-align: middle;\n",
       "    }\n",
       "\n",
       "    .dataframe tbody tr th {\n",
       "        vertical-align: top;\n",
       "    }\n",
       "\n",
       "    .dataframe thead th {\n",
       "        text-align: right;\n",
       "    }\n",
       "</style>\n",
       "<table border=\"1\" class=\"dataframe\">\n",
       "  <thead>\n",
       "    <tr style=\"text-align: right;\">\n",
       "      <th></th>\n",
       "      <th>Unnamed: 0</th>\n",
       "      <th>tweet_preprocessing</th>\n",
       "      <th>sentimen</th>\n",
       "      <th>tweet</th>\n",
       "      <th>word_length</th>\n",
       "      <th>sentiment</th>\n",
       "    </tr>\n",
       "  </thead>\n",
       "  <tbody>\n",
       "    <tr>\n",
       "      <th>0</th>\n",
       "      <td>0</td>\n",
       "      <td>kak maaf kendalanya ya kak bella bantu kendala kakak inbox ya kak silakan kakak</td>\n",
       "      <td>negatif</td>\n",
       "      <td>kak maaf kendalanya ya kak bella bantu kendala kakak inbox ya kak silakan kakak</td>\n",
       "      <td>14</td>\n",
       "      <td>14</td>\n",
       "    </tr>\n",
       "    <tr>\n",
       "      <th>1</th>\n",
       "      <td>1</td>\n",
       "      <td>follow yuk byk hadiah guys</td>\n",
       "      <td>positif</td>\n",
       "      <td>follow yuk byk hadiah guys</td>\n",
       "      <td>5</td>\n",
       "      <td>9</td>\n",
       "    </tr>\n",
       "    <tr>\n",
       "      <th>2</th>\n",
       "      <td>2</td>\n",
       "      <td>kak maaf kendalanya ya kak bella bantu kendala kakak inbox ya kak silakan kakak</td>\n",
       "      <td>negatif</td>\n",
       "      <td>kak maaf kendalanya ya kak bella bantu kendala kakak inbox ya kak silakan kakak</td>\n",
       "      <td>14</td>\n",
       "      <td>14</td>\n",
       "    </tr>\n",
       "    <tr>\n",
       "      <th>3</th>\n",
       "      <td>3</td>\n",
       "      <td>mengajakmu bergabung bukalapak memberikanmu credits rp cek</td>\n",
       "      <td>positif</td>\n",
       "      <td>mengajakmu bergabung bukalapak memberikanmu credits rp cek</td>\n",
       "      <td>7</td>\n",
       "      <td>-5</td>\n",
       "    </tr>\n",
       "    <tr>\n",
       "      <th>4</th>\n",
       "      <td>4</td>\n",
       "      <td>tolong nomor dana hangus memutus akun dana</td>\n",
       "      <td>negatif</td>\n",
       "      <td>tolong nomor dana hangus memutus akun dana</td>\n",
       "      <td>7</td>\n",
       "      <td>11</td>\n",
       "    </tr>\n",
       "    <tr>\n",
       "      <th>...</th>\n",
       "      <td>...</td>\n",
       "      <td>...</td>\n",
       "      <td>...</td>\n",
       "      <td>...</td>\n",
       "      <td>...</td>\n",
       "      <td>...</td>\n",
       "    </tr>\n",
       "    <tr>\n",
       "      <th>795</th>\n",
       "      <td>795</td>\n",
       "      <td>hai kak mohon maaf yuk pindah dm infokan kendala detail beserta email danâ</td>\n",
       "      <td>positif</td>\n",
       "      <td>hai kak mohon maaf yuk pindah dm infokan kendala detail beserta email danâ</td>\n",
       "      <td>13</td>\n",
       "      <td>13</td>\n",
       "    </tr>\n",
       "    <tr>\n",
       "      <th>796</th>\n",
       "      <td>796</td>\n",
       "      <td>tolong dibantu penjualan no pesanan diterima pembeli pembeliâ</td>\n",
       "      <td>negatif</td>\n",
       "      <td>tolong dibantu penjualan no pesanan diterima pembeli pembeliâ</td>\n",
       "      <td>8</td>\n",
       "      <td>14</td>\n",
       "    </tr>\n",
       "    <tr>\n",
       "      <th>797</th>\n",
       "      <td>797</td>\n",
       "      <td>waah sih milih investasi emas yah emas harganya cenderung stabil â</td>\n",
       "      <td>negatif</td>\n",
       "      <td>waah sih milih investasi emas yah emas harganya cenderung stabil</td>\n",
       "      <td>10</td>\n",
       "      <td>2</td>\n",
       "    </tr>\n",
       "    <tr>\n",
       "      <th>798</th>\n",
       "      <td>798</td>\n",
       "      <td>rt twitter please do your magic gue tau akun gue tolong retweet tau yg ketipu â</td>\n",
       "      <td>positif</td>\n",
       "      <td>twitter please do your magic gue tau akun gue tolong tau yg ketipu</td>\n",
       "      <td>13</td>\n",
       "      <td>-8</td>\n",
       "    </tr>\n",
       "    <tr>\n",
       "      <th>799</th>\n",
       "      <td>799</td>\n",
       "      <td>rupiah mhank</td>\n",
       "      <td>negatif</td>\n",
       "      <td>rupiah mhank</td>\n",
       "      <td>2</td>\n",
       "      <td>0</td>\n",
       "    </tr>\n",
       "  </tbody>\n",
       "</table>\n",
       "<p>800 rows × 6 columns</p>\n",
       "</div>"
      ],
      "text/plain": [
       "     Unnamed: 0  \\\n",
       "0             0   \n",
       "1             1   \n",
       "2             2   \n",
       "3             3   \n",
       "4             4   \n",
       "..          ...   \n",
       "795         795   \n",
       "796         796   \n",
       "797         797   \n",
       "798         798   \n",
       "799         799   \n",
       "\n",
       "                                                                  tweet_preprocessing  \\\n",
       "0     kak maaf kendalanya ya kak bella bantu kendala kakak inbox ya kak silakan kakak   \n",
       "1                                                          follow yuk byk hadiah guys   \n",
       "2     kak maaf kendalanya ya kak bella bantu kendala kakak inbox ya kak silakan kakak   \n",
       "3                         mengajakmu bergabung bukalapak memberikanmu credits rp cek    \n",
       "4                                          tolong nomor dana hangus memutus akun dana   \n",
       "..                                                                                ...   \n",
       "795       hai kak mohon maaf yuk pindah dm infokan kendala detail beserta email danâ    \n",
       "796                    tolong dibantu penjualan no pesanan diterima pembeli pembeliâ    \n",
       "797               waah sih milih investasi emas yah emas harganya cenderung stabil â    \n",
       "798  rt twitter please do your magic gue tau akun gue tolong retweet tau yg ketipu â    \n",
       "799                                                                     rupiah mhank    \n",
       "\n",
       "    sentimen  \\\n",
       "0    negatif   \n",
       "1    positif   \n",
       "2    negatif   \n",
       "3    positif   \n",
       "4    negatif   \n",
       "..       ...   \n",
       "795  positif   \n",
       "796  negatif   \n",
       "797  negatif   \n",
       "798  positif   \n",
       "799  negatif   \n",
       "\n",
       "                                                                                tweet  \\\n",
       "0    kak maaf kendalanya ya kak bella bantu kendala kakak inbox ya kak silakan kakak    \n",
       "1                                                         follow yuk byk hadiah guys    \n",
       "2    kak maaf kendalanya ya kak bella bantu kendala kakak inbox ya kak silakan kakak    \n",
       "3                         mengajakmu bergabung bukalapak memberikanmu credits rp cek    \n",
       "4                                         tolong nomor dana hangus memutus akun dana    \n",
       "..                                                                                ...   \n",
       "795       hai kak mohon maaf yuk pindah dm infokan kendala detail beserta email danâ    \n",
       "796                    tolong dibantu penjualan no pesanan diterima pembeli pembeliâ    \n",
       "797                 waah sih milih investasi emas yah emas harganya cenderung stabil    \n",
       "798               twitter please do your magic gue tau akun gue tolong tau yg ketipu    \n",
       "799                                                                     rupiah mhank    \n",
       "\n",
       "     word_length  sentiment  \n",
       "0             14         14  \n",
       "1              5          9  \n",
       "2             14         14  \n",
       "3              7         -5  \n",
       "4              7         11  \n",
       "..           ...        ...  \n",
       "795           13         13  \n",
       "796            8         14  \n",
       "797           10          2  \n",
       "798           13         -8  \n",
       "799            2          0  \n",
       "\n",
       "[800 rows x 6 columns]"
      ]
     },
     "execution_count": 189,
     "metadata": {},
     "output_type": "execute_result"
    }
   ],
   "source": [
    "df.head(800)"
   ]
  },
  {
   "cell_type": "code",
   "execution_count": 190,
   "metadata": {},
   "outputs": [
    {
     "name": "stdout",
     "output_type": "stream",
     "text": [
      "Total tweets: 550\n",
      "Total tweets with sentiment: 550\n",
      "positive tweets: 26\n",
      "negative tweets: 5\n",
      "neutral tweets: 519\n"
     ]
    }
   ],
   "source": [
    "# Afinn sentiment LABELING\n",
    "from afinn import Afinn\n",
    "af = Afinn()\n",
    "count_total=0\n",
    "count_pos=0\n",
    "count_neut=0\n",
    "\n",
    "count_neg=0\n",
    "li_af = []\n",
    "for i in range(len(df_copy.index)):\n",
    "    sent = str(df_copy.loc[i]['tweet_preprocessing'])\n",
    "    if(af.score(sent)>0):\n",
    "        count_pos=count_pos+1\n",
    "        count_total=count_total+1\n",
    "        li_af.append(1)\n",
    "    elif(af.score(sent)<0):\n",
    "        count_neg=count_neg+1\n",
    "        count_total=count_total+1\n",
    "        li_af.append(-1)\n",
    "    else:\n",
    "        li_af.append(0)\n",
    "        count_total=count_total+1\n",
    "        count_neut+=1\n",
    "\n",
    "\n",
    "\n",
    "#         print(df.loc[i]['full_text'])\n",
    "#         print(sent.sentiment)\n",
    "print(\"Total tweets:\",len(df_copy.index))\n",
    "print(\"Total tweets with sentiment:\",count_total)\n",
    "print(\"positive tweets:\",count_pos)\n",
    "print(\"negative tweets:\",count_neg)\n",
    "print(\"neutral tweets:\",count_neut)"
   ]
  },
  {
   "cell_type": "code",
   "execution_count": null,
   "metadata": {},
   "outputs": [],
   "source": []
  }
 ],
 "metadata": {
  "kernelspec": {
   "display_name": "Python 3",
   "language": "python",
   "name": "python3"
  },
  "language_info": {
   "codemirror_mode": {
    "name": "ipython",
    "version": 3
   },
   "file_extension": ".py",
   "mimetype": "text/x-python",
   "name": "python",
   "nbconvert_exporter": "python",
   "pygments_lexer": "ipython3",
   "version": "3.7.6"
  }
 },
 "nbformat": 4,
 "nbformat_minor": 4
}
